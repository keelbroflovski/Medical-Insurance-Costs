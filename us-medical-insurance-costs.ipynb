{
 "cells": [
  {
   "cell_type": "markdown",
   "metadata": {},
   "source": [
    "# U.S. Medical Insurance Costs"
   ]
  },
  {
   "cell_type": "code",
   "execution_count": 1,
   "metadata": {},
   "outputs": [],
   "source": [
    "import csv\n",
    "import pandas as pd\n",
    "import numpy as np"
   ]
  },
  {
   "cell_type": "code",
   "execution_count": 2,
   "metadata": {},
   "outputs": [
    {
     "name": "stdout",
     "output_type": "stream",
     "text": [
      "   age     sex     bmi  children smoker     region      charges\n",
      "0   19  female  27.900         0    yes  southwest  16884.92400\n",
      "1   18    male  33.770         1     no  southeast   1725.55230\n",
      "2   28    male  33.000         3     no  southeast   4449.46200\n",
      "3   33    male  22.705         0     no  northwest  21984.47061\n",
      "4   32    male  28.880         0     no  northwest   3866.85520\n"
     ]
    }
   ],
   "source": [
    "data = pd.read_csv('insurance.csv', delimiter = ',')\n",
    "print(data.head())"
   ]
  },
  {
   "cell_type": "code",
   "execution_count": 3,
   "metadata": {},
   "outputs": [
    {
     "name": "stdout",
     "output_type": "stream",
     "text": [
      "['southwest', 'southeast', 'southeast', 'northwest', 'northwest', 'southeast', 'southeast', 'northwest', 'northeast', 'northwest', 'northeast', 'southeast', 'southwest', 'southeast', 'southeast', 'southwest', 'northeast', 'northeast', 'southwest', 'southwest', 'northeast', 'southwest', 'southeast', 'northeast', 'northwest', 'southeast', 'northeast', 'northwest', 'northwest', 'southwest', 'southwest', 'northeast', 'southwest', 'northwest', 'southwest', 'northwest', 'northwest', 'southwest', 'northeast', 'southwest', 'northeast', 'southeast', 'southeast', 'southeast', 'northeast', 'southwest', 'northeast', 'northwest', 'southeast', 'southeast', 'northeast', 'northwest', 'southwest', 'southeast', 'northwest', 'northwest', 'northeast', 'southeast', 'southeast', 'northwest', 'northeast', 'southeast', 'northwest', 'northwest', 'northwest', 'southwest', 'southwest', 'northwest', 'southeast', 'southeast', 'southeast', 'northeast', 'southwest', 'southeast', 'southwest', 'northwest', 'southeast', 'southeast', 'northeast', 'northwest', 'northeast', 'northeast', 'southeast', 'northwest', 'southwest', 'northwest', 'northwest', 'southwest', 'northwest', 'northwest', 'southeast', 'northwest', 'northeast', 'northwest', 'southwest', 'southeast', 'southwest', 'southeast', 'northeast', 'southwest', 'southwest', 'northeast', 'northeast', 'southeast', 'southwest', 'northwest', 'southwest', 'northwest', 'southeast', 'southeast', 'northwest', 'southwest', 'southwest', 'northwest', 'northeast', 'northeast', 'southeast', 'southeast', 'southeast', 'northwest', 'southwest', 'northeast', 'northwest', 'northeast', 'northwest', 'northeast', 'southwest', 'southwest', 'northwest', 'southwest', 'northeast', 'northeast', 'southwest', 'northwest', 'northeast', 'southeast', 'southwest', 'northwest', 'southeast', 'southwest', 'northeast', 'northeast', 'southeast', 'northwest', 'northwest', 'southeast', 'northwest', 'southeast', 'northwest', 'southwest', 'northwest', 'southeast', 'northeast', 'northeast', 'northeast', 'northwest', 'southeast', 'northeast', 'southeast', 'southeast', 'northwest', 'southeast', 'southwest', 'southwest', 'northwest', 'northeast', 'southwest', 'northwest', 'northwest', 'northeast', 'southeast', 'southwest', 'northeast', 'southwest', 'northwest', 'southwest', 'northwest', 'southwest', 'southwest', 'northeast', 'northwest', 'southeast', 'northeast', 'northwest', 'southeast', 'northeast', 'southeast', 'southwest', 'southwest', 'northwest', 'southeast', 'southwest', 'southeast', 'northwest', 'southeast', 'northwest', 'southwest', 'southeast', 'northwest', 'northeast', 'northwest', 'southeast', 'northwest', 'southeast', 'southwest', 'northeast', 'southeast', 'northeast', 'southwest', 'northeast', 'southwest', 'northwest', 'northwest', 'southeast', 'southwest', 'southwest', 'northwest', 'southeast', 'southeast', 'southeast', 'southwest', 'northeast', 'southwest', 'southwest', 'southeast', 'southeast', 'southeast', 'southeast', 'northeast', 'northeast', 'northwest', 'southeast', 'southwest', 'southwest', 'northwest', 'southeast', 'southeast', 'southeast', 'northwest', 'southeast', 'northeast', 'northeast', 'southwest', 'southwest', 'northeast', 'northwest', 'southeast', 'southeast', 'southwest', 'northeast', 'northeast', 'southwest', 'southeast', 'southwest', 'northeast', 'northeast', 'northwest', 'southeast', 'northwest', 'northwest', 'southwest', 'southeast', 'northeast', 'northwest', 'southeast', 'southeast', 'southeast', 'northeast', 'southwest', 'northeast', 'southeast', 'southwest', 'northwest', 'northeast', 'northwest', 'northeast', 'northwest', 'southwest', 'southeast', 'southeast', 'northeast', 'northeast', 'northeast', 'northeast', 'southwest', 'southeast', 'northeast', 'northwest', 'northeast', 'southeast', 'southwest', 'northeast', 'southeast', 'southeast', 'southwest', 'northeast', 'southwest', 'southeast', 'northwest', 'northwest', 'northeast', 'northeast', 'southeast', 'southeast', 'southwest', 'northwest', 'southwest', 'southeast', 'northeast', 'northwest', 'southwest', 'southwest', 'southeast', 'southeast', 'southwest', 'northeast', 'northwest', 'northeast', 'northwest', 'northeast', 'northwest', 'northeast', 'southwest', 'northeast', 'southwest', 'northeast', 'southeast', 'northwest', 'southwest', 'southwest', 'northeast', 'northwest', 'northwest', 'northeast', 'northeast', 'southwest', 'southeast', 'northwest', 'northeast', 'southeast', 'southwest', 'northwest', 'northeast', 'northeast', 'southeast', 'southeast', 'southeast', 'northeast', 'southeast', 'northwest', 'northwest', 'southwest', 'southwest', 'northeast', 'southeast', 'southwest', 'southeast', 'northwest', 'southeast', 'southeast', 'northeast', 'southwest', 'southwest', 'southwest', 'southeast', 'northeast', 'northeast', 'northwest', 'northwest', 'northeast', 'northwest', 'northeast', 'northeast', 'southwest', 'southeast', 'northwest', 'northeast', 'southeast', 'northwest', 'southeast', 'northeast', 'northeast', 'southeast', 'southeast', 'northeast', 'southwest', 'southeast', 'northwest', 'northwest', 'northwest', 'northeast', 'northwest', 'northeast', 'northeast', 'northeast', 'northwest', 'southwest', 'southeast', 'southwest', 'southeast', 'southwest', 'southeast', 'northwest', 'northwest', 'southwest', 'northeast', 'southeast', 'southwest', 'southeast', 'southeast', 'northwest', 'northeast', 'northeast', 'southwest', 'northwest', 'southeast', 'southeast', 'southwest', 'southeast', 'northwest', 'southeast', 'southeast', 'northeast', 'northeast', 'southwest', 'southeast', 'northeast', 'northeast', 'northeast', 'northwest', 'southwest', 'northwest', 'southwest', 'southwest', 'northwest', 'southeast', 'northeast', 'southwest', 'southeast', 'northeast', 'northwest', 'southwest', 'southeast', 'southeast', 'northwest', 'southwest', 'northeast', 'northwest', 'southwest', 'southwest', 'southwest', 'northwest', 'southwest', 'northwest', 'southeast', 'southwest', 'southeast', 'northwest', 'southwest', 'southeast', 'southeast', 'southwest', 'northeast', 'northeast', 'northwest', 'southeast', 'southwest', 'northwest', 'northeast', 'southeast', 'southeast', 'northeast', 'southwest', 'northeast', 'southwest', 'northwest', 'northeast', 'northwest', 'southeast', 'southeast', 'northwest', 'southeast', 'southeast', 'southwest', 'southwest', 'northeast', 'northwest', 'southwest', 'southeast', 'northwest', 'southwest', 'southeast', 'northeast', 'southwest', 'southwest', 'northeast', 'southwest', 'southwest', 'southeast', 'southwest', 'southwest', 'northeast', 'southeast', 'southeast', 'southeast', 'northwest', 'northwest', 'northwest', 'northeast', 'southwest', 'northeast', 'southeast', 'northeast', 'southwest', 'southwest', 'southwest', 'southeast', 'northwest', 'southwest', 'northeast', 'northeast', 'southeast', 'northeast', 'southeast', 'southeast', 'southeast', 'northwest', 'southwest', 'northeast', 'northeast', 'southeast', 'northeast', 'southeast', 'southeast', 'southeast', 'northeast', 'southwest', 'southwest', 'southeast', 'southeast', 'southwest', 'southeast', 'southeast', 'southeast', 'northwest', 'northwest', 'northeast', 'southwest', 'northeast', 'southeast', 'southwest', 'southeast', 'southwest', 'northwest', 'northeast', 'southwest', 'northeast', 'southeast', 'northwest', 'northwest', 'northwest', 'northeast', 'southwest', 'southeast', 'southeast', 'northwest', 'northwest', 'northwest', 'southwest', 'northwest', 'southwest', 'southeast', 'southeast', 'northeast', 'northeast', 'northwest', 'southeast', 'northeast', 'southwest', 'northeast', 'northeast', 'northwest', 'southeast', 'southeast', 'southwest', 'southeast', 'northeast', 'northwest', 'northeast', 'southeast', 'southwest', 'northwest', 'southeast', 'northeast', 'southeast', 'northeast', 'southeast', 'northeast', 'southwest', 'northwest', 'southeast', 'northwest', 'southwest', 'southeast', 'northwest', 'southeast', 'northeast', 'northwest', 'northeast', 'southwest', 'southeast', 'southwest', 'northeast', 'northeast', 'southeast', 'southeast', 'northeast', 'southwest', 'southeast', 'southwest', 'southwest', 'southwest', 'southwest', 'northeast', 'northwest', 'northwest', 'northeast', 'southeast', 'southwest', 'northwest', 'southwest', 'southwest', 'southeast', 'northeast', 'southwest', 'northeast', 'northwest', 'northeast', 'northeast', 'southeast', 'southwest', 'northwest', 'northeast', 'northwest', 'southeast', 'northeast', 'northwest', 'northeast', 'northeast', 'northeast', 'southeast', 'southeast', 'southeast', 'southeast', 'southeast', 'southeast', 'southwest', 'northwest', 'northeast', 'northeast', 'southeast', 'southeast', 'northeast', 'southeast', 'southeast', 'southeast', 'southwest', 'northwest', 'northeast', 'southeast', 'southeast', 'northeast', 'southeast', 'southeast', 'southeast', 'northwest', 'southeast', 'northwest', 'southwest', 'northwest', 'southwest', 'southwest', 'southwest', 'northwest', 'southwest', 'northeast', 'northeast', 'southeast', 'southwest', 'southeast', 'northeast', 'southwest', 'northwest', 'northwest', 'southwest', 'northwest', 'northeast', 'southeast', 'northwest', 'southeast', 'southeast', 'northeast', 'southeast', 'northwest', 'northwest', 'southwest', 'southeast', 'northwest', 'northeast', 'northeast', 'southeast', 'southeast', 'northwest', 'northeast', 'southwest', 'southwest', 'northwest', 'northwest', 'northwest', 'northwest', 'northeast', 'southwest', 'southwest', 'southwest', 'northeast', 'southeast', 'northwest', 'northeast', 'northeast', 'southeast', 'southeast', 'southwest', 'southwest', 'northeast', 'southwest', 'northwest', 'southeast', 'southwest', 'northeast', 'southwest', 'northeast', 'southeast', 'northeast', 'southeast', 'northwest', 'northwest', 'southwest', 'northwest', 'southwest', 'northwest', 'southeast', 'northwest', 'northwest', 'southeast', 'northeast', 'northeast', 'northeast', 'southeast', 'northeast', 'southeast', 'northeast', 'southwest', 'southwest', 'northeast', 'northeast', 'northwest', 'southwest', 'southwest', 'southwest', 'northwest', 'southwest', 'southwest', 'northeast', 'northwest', 'northwest', 'southeast', 'northwest', 'northeast', 'southeast', 'northwest', 'southwest', 'southeast', 'southeast', 'southwest', 'southeast', 'southwest', 'northeast', 'northwest', 'northeast', 'southeast', 'southeast', 'southwest', 'northeast', 'southeast', 'northwest', 'northwest', 'southeast', 'northeast', 'southwest', 'northeast', 'southeast', 'southeast', 'southwest', 'southeast', 'southeast', 'northwest', 'northwest', 'northwest', 'southeast', 'northeast', 'southwest', 'northwest', 'southeast', 'northeast', 'southeast', 'southeast', 'northwest', 'southwest', 'northeast', 'northwest', 'southwest', 'northwest', 'southeast', 'southeast', 'northwest', 'northeast', 'southeast', 'northeast', 'northeast', 'northwest', 'southwest', 'northwest', 'northwest', 'northwest', 'northwest', 'southeast', 'southwest', 'northeast', 'northeast', 'northwest', 'southwest', 'northeast', 'southeast', 'southeast', 'northeast', 'southeast', 'southwest', 'southeast', 'southwest', 'northwest', 'northeast', 'northwest', 'northeast', 'northeast', 'northeast', 'southwest', 'southeast', 'northwest', 'southeast', 'southwest', 'southwest', 'southwest', 'northwest', 'northeast', 'southwest', 'southwest', 'southeast', 'southwest', 'northeast', 'southwest', 'southwest', 'southeast', 'southeast', 'southwest', 'northeast', 'northwest', 'southwest', 'southeast', 'southwest', 'southwest', 'southwest', 'northwest', 'northeast', 'northeast', 'northwest', 'southeast', 'northeast', 'northwest', 'southwest', 'northwest', 'northwest', 'southeast', 'northeast', 'southeast', 'northeast', 'southwest', 'northeast', 'northwest', 'southeast', 'northwest', 'northeast', 'southeast', 'northeast', 'southeast', 'southwest', 'northeast', 'northeast', 'southeast', 'southwest', 'southwest', 'northwest', 'northeast', 'northwest', 'southwest', 'northwest', 'southeast', 'northwest', 'northeast', 'southwest', 'southeast', 'southwest', 'southwest', 'southwest', 'northwest', 'southwest', 'northeast', 'southwest', 'southwest', 'southeast', 'southeast', 'southeast', 'southwest', 'southwest', 'southwest', 'southeast', 'southwest', 'northeast', 'northwest', 'southeast', 'southeast', 'southeast', 'southeast', 'northeast', 'northwest', 'southeast', 'southwest', 'southwest', 'northeast', 'northwest', 'southwest', 'northeast', 'southeast', 'northwest', 'southwest', 'northwest', 'southeast', 'southeast', 'northwest', 'northeast', 'northwest', 'northwest', 'southwest', 'southeast', 'northeast', 'northwest', 'southwest', 'northwest', 'northwest', 'northeast', 'southeast', 'southeast', 'northeast', 'northwest', 'southwest', 'southeast', 'northeast', 'southeast', 'southeast', 'northeast', 'southeast', 'northeast', 'northeast', 'southwest', 'northeast', 'northeast', 'southwest', 'northwest', 'northwest', 'northeast', 'northeast', 'southwest', 'northeast', 'southwest', 'southeast', 'northwest', 'northeast', 'southwest', 'southeast', 'northeast', 'northwest', 'northwest', 'southwest', 'southwest', 'southwest', 'northeast', 'northwest', 'northeast', 'northwest', 'northeast', 'northeast', 'southwest', 'southeast', 'southeast', 'northwest', 'southwest', 'northwest', 'northwest', 'southwest', 'northwest', 'northwest', 'southwest', 'southeast', 'southeast', 'southeast', 'southeast', 'southwest', 'northwest', 'northwest', 'southwest', 'northeast', 'northwest', 'southeast', 'northeast', 'northeast', 'northwest', 'southwest', 'southeast', 'northwest', 'northeast', 'northwest', 'northwest', 'northeast', 'northeast', 'southwest', 'northeast', 'northwest', 'northeast', 'southeast', 'northwest', 'southwest', 'northwest', 'northeast', 'northeast', 'southwest', 'northwest', 'northwest', 'southwest', 'southeast', 'southeast', 'northwest', 'southeast', 'southeast', 'southeast', 'northwest', 'southwest', 'southwest', 'southeast', 'northeast', 'northwest', 'southeast', 'southeast', 'northeast', 'northwest', 'northeast', 'northeast', 'southeast', 'southwest', 'northeast', 'southeast', 'southeast', 'southeast', 'northwest', 'northwest', 'southwest', 'northwest', 'southwest', 'northeast', 'northwest', 'southeast', 'southwest', 'southeast', 'northeast', 'southwest', 'northwest', 'southwest', 'northeast', 'northeast', 'southeast', 'northeast', 'southeast', 'northeast', 'southwest', 'southeast', 'southeast', 'southwest', 'southeast', 'northwest', 'northwest', 'southwest', 'southeast', 'northeast', 'southeast', 'southeast', 'northwest', 'northeast', 'southeast', 'northeast', 'southeast', 'southeast', 'northwest', 'southwest', 'southeast', 'northwest', 'northeast', 'northeast', 'northwest', 'southwest', 'southeast', 'southwest', 'southwest', 'southeast', 'southwest', 'northeast', 'northwest', 'northwest', 'northwest', 'southwest', 'northwest', 'southeast', 'northwest', 'southeast', 'southwest', 'southeast', 'southeast', 'southwest', 'northwest', 'southwest', 'northwest', 'southwest', 'southwest', 'northeast', 'northwest', 'southeast', 'northwest', 'northwest', 'northeast', 'southeast', 'northwest', 'northeast', 'southwest', 'northwest', 'southeast', 'southeast', 'northeast', 'northwest', 'northeast', 'southeast', 'southwest', 'southwest', 'northwest', 'northeast', 'southwest', 'southeast', 'northwest', 'northwest', 'southwest', 'northwest', 'southwest', 'northeast', 'southeast', 'northeast', 'northwest', 'southwest', 'northeast', 'southeast', 'northeast', 'northwest', 'northwest', 'northeast', 'southwest', 'northwest', 'northeast', 'northeast', 'northwest', 'northwest', 'northwest', 'northwest', 'southeast', 'northwest', 'southwest', 'northwest', 'northwest', 'northwest', 'northeast', 'southeast', 'northwest', 'southwest', 'southwest', 'northeast', 'southwest', 'northwest', 'southeast', 'northeast', 'southwest', 'northwest', 'northeast', 'southeast', 'southeast', 'southwest', 'northwest', 'northeast', 'southeast', 'southeast', 'southeast', 'northeast', 'southeast', 'northeast', 'southeast', 'southeast', 'northeast', 'northwest', 'southwest', 'northwest', 'southwest', 'southeast', 'northwest', 'northeast', 'northwest', 'northeast', 'southeast', 'southeast', 'southeast', 'northwest', 'southeast', 'southeast', 'southwest', 'southwest', 'southwest', 'southeast', 'northeast', 'northeast', 'southwest', 'southwest', 'southwest', 'southeast', 'southwest', 'northwest', 'northwest', 'northwest', 'northeast', 'northeast', 'southwest', 'southeast', 'southwest', 'northeast', 'southeast', 'southwest', 'northeast', 'southwest', 'southwest', 'northwest', 'northwest', 'southeast', 'southeast', 'southeast', 'southwest', 'northeast', 'northwest', 'northeast', 'northwest', 'southeast', 'northwest', 'northeast', 'southeast', 'southwest', 'northeast', 'northeast', 'southwest', 'southwest', 'southeast', 'northeast', 'southwest', 'southeast', 'northwest', 'northeast', 'southwest', 'northeast', 'southeast', 'northwest', 'northwest', 'southeast', 'northwest', 'southwest', 'southwest', 'northeast', 'southeast', 'northeast', 'northwest', 'southwest', 'southwest', 'northwest', 'northwest', 'southwest', 'southwest', 'northwest', 'northeast', 'southwest', 'southeast', 'northeast', 'northwest', 'northwest', 'northeast', 'southeast', 'southeast', 'northwest', 'northeast', 'northeast', 'southeast', 'northeast', 'southwest', 'southeast', 'southwest', 'southwest', 'northwest', 'northeast', 'southeast', 'southwest', 'northwest']\n"
     ]
    }
   ],
   "source": [
    "#Create lists for all columns in the data\n",
    "Age = list(data.age)\n",
    "Sex = list(data.sex)\n",
    "BMI = list(data.bmi)\n",
    "Children = list(data.children)\n",
    "Smoker = list(data.smoker)\n",
    "Region = list(data.region)\n",
    "Insurance_Cost = list(data.charges)\n",
    "print(Region)"
   ]
  },
  {
   "cell_type": "markdown",
   "metadata": {},
   "source": [
    "Goal of this project is to analyze the following:\n",
    "\n",
    "Average age of the data's users\n",
    "Count the number of Males to Females\n",
    "What is the average BMI, further broken down by Male BMI to Female BMI\n",
    "What percent of users smoke?\n",
    "A count of users by region\n",
    "Average charges by Sex, Region, and Smoker status"
   ]
  },
  {
   "cell_type": "code",
   "execution_count": 4,
   "metadata": {},
   "outputs": [],
   "source": [
    "#Create Class with Methods for each of the following\n",
    "\n",
    "class PatientsInfo:\n",
    "    #Create init method that takes each list as a parameter\n",
    "    def __init__(self, age, sex, bmi, children, smoker, region, charges):\n",
    "        self.age = Age\n",
    "        self.sex = Sex\n",
    "        self.bmi = BMI\n",
    "        self.children = Children\n",
    "        self.smoker = Smoker\n",
    "        self.region = Region\n",
    "        self.charges = Insurance_Cost\n",
    "        \n",
    "    #create function to analyze average age of users\n",
    "    def average_age(self):\n",
    "        average_age = np.mean(Age)\n",
    "        return(\"The average age of the patients in this dataset is \"+ str(round(average_age,2))+\" years.\")\n",
    "    \n",
    "    #Create function to count the numbers of Males and Females\n",
    "    def sex_count(self):\n",
    "        males = 0\n",
    "        females = 0\n",
    "        for sex in self.sex:\n",
    "            if sex == 'male':\n",
    "                males += 1\n",
    "            elif sex == 'female':\n",
    "                females += 1\n",
    "        return(\"There are \"+str(males)+\" males, and \"+str(females)+\" females in this dataset.\")\n",
    "    \n",
    "    #Create function to find the average BMI, along with average BMI by sex\n",
    "    def average_bmi(self):\n",
    "        average_bmi = np.mean(self.bmi)\n",
    "        male_bmi = np.mean(data.bmi[data.sex == 'male'])\n",
    "        female_bmi = np.mean(data.bmi[data.sex == 'female'])\n",
    "        print(\"The average BMI among all patients in the dataset is: \"+str(round(average_bmi,2))+\". \")\n",
    "        print(\"The average BMI among all Males in the dataset is: \"+str(round(male_bmi,2))+\". \")\n",
    "        print(\"The average BMI among all Females in the dataset is: \"+str(round(female_bmi,2))+\".\")\n",
    "        \n",
    "        \n",
    "    #Create function to find the percent of users who smoke\n",
    "    def smoke_percent(self):\n",
    "        num_smokers = 0\n",
    "        for smoker in self.smoker:\n",
    "            if smoker == 'yes':\n",
    "                num_smokers +=1\n",
    "        smoke_percent = num_smokers / len(self.smoker)\n",
    "        return (str(\"{:.2%}\".format(smoke_percent))+\" of users in this dataset smoke.\")\n",
    "    \n",
    "    #Create function that creates a dictionary and counts how many patients are from each region in the dataset\n",
    "    def region_count(self):\n",
    "        regions = {}\n",
    "        for c in range(len(self.region)):\n",
    "            regions[self.region[c]] = Region.count(self.region[c])\n",
    "        return regions\n",
    "    \n",
    "    #Create function that finds the average Insurance Cost by Sex, Region, and Smoker Status\n",
    "    def insurance_cost(self):\n",
    "        insurance_male = \"${:,.2f}\".format(np.mean(data.charges[data.sex == 'male']))\n",
    "        insurance_female = \"${:,.2f}\".format(np.mean(data.charges[data.sex == 'female']))\n",
    "        \n",
    "        regions = []\n",
    "        region_avg = []\n",
    "        for region in self.region:\n",
    "            if region not in regions:\n",
    "                regions.append(region)\n",
    "        for region1 in regions:\n",
    "            region1_avg = \"${:,.2f}\".format(np.mean(data.charges[data.region == region1]))\n",
    "            region_avg.append(region1_avg)\n",
    "                    \n",
    "        insurance_region = list(zip(regions, region_avg))\n",
    "    \n",
    "        smokers = []\n",
    "        smoker_avg = []\n",
    "        for smoker in self.smoker:\n",
    "            if smoker not in smokers:\n",
    "                smokers.append(smoker)\n",
    "        for smoker1 in smokers:\n",
    "            smoker_avg1 = \"${:,.2f}\".format(np.mean(data.charges[data.smoker == smoker1]))\n",
    "            smoker_avg.append(smoker_avg1)\n",
    "        \n",
    "        insurance_smoker = list(zip(smokers, smoker_avg))\n",
    "        \n",
    "        print(\"The average insurance cost for males is: \"+str(insurance_male)+\".\")\n",
    "        print(\"The average insurance cost for females is: \"+str(insurance_female)+\".\")\n",
    "        print(\"The average insurance cost for each region is: \"+str(insurance_region)+\".\")\n",
    "        print(\"The average insurance cost for each smoker status is: \"+str(insurance_smoker)+\".\")\n",
    "        \n",
    "        \n",
    "        \n",
    "                    \n",
    "                        "
   ]
  },
  {
   "cell_type": "markdown",
   "metadata": {},
   "source": [
    "The next step is to create an instance of the class, called patient_info which allows each method to be used"
   ]
  },
  {
   "cell_type": "code",
   "execution_count": 5,
   "metadata": {},
   "outputs": [
    {
     "name": "stdout",
     "output_type": "stream",
     "text": [
      "The average insurance cost for males is: $13,956.75.\n",
      "The average insurance cost for females is: $12,569.58.\n",
      "The average insurance cost for each region is: [('southwest', '$12,346.94'), ('southeast', '$14,735.41'), ('northwest', '$12,417.58'), ('northeast', '$13,406.38')].\n",
      "The average insurance cost for each smoker status is: [('yes', '$32,050.23'), ('no', '$8,434.27')].\n"
     ]
    }
   ],
   "source": [
    "patient_info = PatientsInfo(Age, Sex, BMI, Children, Smoker, Region, Insurance_Cost)\n",
    "patient_info.insurance_cost()\n"
   ]
  }
 ],
 "metadata": {
  "kernelspec": {
   "display_name": "Python 3",
   "language": "python",
   "name": "python3"
  },
  "language_info": {
   "codemirror_mode": {
    "name": "ipython",
    "version": 3
   },
   "file_extension": ".py",
   "mimetype": "text/x-python",
   "name": "python",
   "nbconvert_exporter": "python",
   "pygments_lexer": "ipython3",
   "version": "3.8.5"
  }
 },
 "nbformat": 4,
 "nbformat_minor": 4
}
